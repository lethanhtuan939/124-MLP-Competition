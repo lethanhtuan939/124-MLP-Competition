{
 "cells": [
  {
   "cell_type": "markdown",
   "metadata": {},
   "source": [
    "## MLP Competition 124 - Lê Thanh Tuấn - 21115053120158"
   ]
  },
  {
   "cell_type": "markdown",
   "metadata": {},
   "source": [
    "#### import lib"
   ]
  },
  {
   "cell_type": "code",
   "execution_count": 9,
   "metadata": {},
   "outputs": [],
   "source": [
    "import pandas as pd\n",
    "import numpy as np\n",
    "from sklearn.model_selection import train_test_split\n",
    "from sklearn.preprocessing import PowerTransformer\n",
    "from sklearn.impute import SimpleImputer\n",
    "from sklearn.ensemble import RandomForestRegressor\n",
    "from sklearn.metrics import mean_squared_error"
   ]
  },
  {
   "cell_type": "markdown",
   "metadata": {},
   "source": [
    "#### load and process data"
   ]
  },
  {
   "cell_type": "code",
   "execution_count": null,
   "metadata": {},
   "outputs": [],
   "source": [
    "def load_and_process_data(train_path, target_path, test_path, test_size=0.2, random_state=42):\n",
    "    # Load the data\n",
    "    X_train = pd.read_csv(train_path, low_memory=False).drop(columns=['ID'], errors='ignore')\n",
    "    y_train = pd.read_csv(target_path)['TARGET']\n",
    "    X_test = pd.read_csv(test_path, low_memory=False)\n",
    "    \n",
    "    # Drop the 'ID' column from test data if it exists\n",
    "    test_ids = X_test.pop('ID') if 'ID' in X_test.columns else np.arange(len(X_test))\n",
    "\n",
    "    # Process both train and test datasets\n",
    "    for df in [X_train, X_test]:\n",
    "        # Convert 'tradeTime' to datetime\n",
    "        if 'tradeTime' in df.columns:\n",
    "            df['tradeTime'] = pd.to_datetime(df['tradeTime'], errors='coerce')\n",
    "        \n",
    "        # Replace categorical values as needed\n",
    "        df.replace({\n",
    "            'elevator': {1: 'has elevator', 0: 'no elevator'},\n",
    "            'subway': {1: 'has subway', 0: 'no subway'},\n",
    "            'buildingStructure': {1: 'unknown', 2: 'mixed', 3: 'brick and wood', 4: 'concrete', 5: 'steel', 6: 'steel-concrete composite'},\n",
    "            'renovationCondition': {1: 'other', 2: 'rough', 3: 'Simplicity', 4: 'hardcover'},\n",
    "            'buildingType': {1: 'tower', 2: 'bungalow', 3: 'combination of plate and tower', 4: 'plate'}\n",
    "        }, inplace=True)\n",
    "        \n",
    "        # Ensure 'constructionTime' is properly numeric and clean up invalid values\n",
    "        if 'constructionTime' in df.columns:\n",
    "            df['constructionTime'] = pd.to_numeric(df['constructionTime'], errors='coerce') \n",
    "\n",
    "        # Convert floor information to numeric\n",
    "        if 'floor' in df.columns:\n",
    "            df['floor'] = df['floor'].astype(str).str.extractall('(\\d+)').unstack().fillna('').sum(axis=1).astype(int)\n",
    "\n",
    "        # Convert Lat and Lng to numeric and calculate distance to the capital\n",
    "        df['Lat'] = pd.to_numeric(df['Lat'], errors='coerce')\n",
    "        df['Lng'] = pd.to_numeric(df['Lng'], errors='coerce')\n",
    "\n",
    "        capital_Lng = np.radians(116.4074)\n",
    "        capital_Lat = np.radians(39.9042)\n",
    "        df['distanceToCapital'] = np.arccos(\n",
    "            np.sin(np.radians(df['Lat'])) * np.sin(capital_Lat) +\n",
    "            np.cos(np.radians(df['Lat'])) * np.cos(capital_Lat) *\n",
    "            np.cos(capital_Lng - np.radians(df['Lng']))\n",
    "        ) * 6371.0088  # Earth's radius in kilometers\n",
    "\n",
    "        # Add age of the building\n",
    "        if 'tradeTime' in df.columns and 'constructionTime' in df.columns:\n",
    "            df['ageOfBuilding'] = df['tradeTime'].dt.year - df['constructionTime']\n",
    "\n",
    "    # Handle missing values for 'elevator' and 'subway'\n",
    "    for df in [X_train, X_test]:\n",
    "        df['elevator'] = df['elevator'].fillna(0)  # Assuming no elevator if missing\n",
    "        df['subway'] = df['subway'].fillna(0)  # Assuming no subway access if missing\n",
    "\n",
    "    # Ensure all columns are numeric where expected and handle NaNs\n",
    "    X_train = X_train.apply(pd.to_numeric, errors='coerce')  # Force conversion of all columns to numeric\n",
    "    X_test = X_test.apply(pd.to_numeric, errors='coerce')\n",
    "    \n",
    "    print(f\"X_train columns before processing: {X_train.shape}\")\n",
    "    print(f\"X_test columns before processing: {X_test.shape}\")\n",
    "    \n",
    "    # Align columns between X_train and X_test to avoid mismatches\n",
    "    common_cols = X_train.columns.intersection(X_test.columns)\n",
    "    X_train, X_test = X_train[common_cols], X_test[common_cols]\n",
    "    \n",
    "    # Add imputation and scaling\n",
    "    imputer = SimpleImputer(strategy=\"median\")\n",
    "    scaler = PowerTransformer()\n",
    "\n",
    "    # Impute and scale both training and test sets\n",
    "    X_train = pd.DataFrame(scaler.fit_transform(imputer.fit_transform(X_train)), columns=common_cols)\n",
    "    X_test = pd.DataFrame(scaler.transform(imputer.transform(X_test)), columns=common_cols)\n",
    "    \n",
    "    print(f\"X_train shape after scaling: {X_train.shape}\")\n",
    "    print(f\"X_test shape after scaling: {X_test.shape}\")\n",
    "\n",
    "    X_train_split, X_val_split, y_train_split, y_val_split = train_test_split(\n",
    "        X_train, y_train, test_size=test_size, random_state=random_state\n",
    "    )\n",
    "\n",
    "    return X_train_split, X_val_split, y_train_split, y_val_split, X_test, test_ids"
   ]
  },
  {
   "cell_type": "markdown",
   "metadata": {},
   "source": [
    "#### train with RandomForest"
   ]
  },
  {
   "cell_type": "code",
   "execution_count": 11,
   "metadata": {},
   "outputs": [],
   "source": [
    "# Define an advanced RMSE function for logging\n",
    "def print_rmse(y_true, y_pred, model_name=\"Model\"):\n",
    "    rmse = np.sqrt(mean_squared_error(y_true, y_pred))\n",
    "    print(f\"{model_name} RMSE: {rmse}\")\n",
    "    return rmse\n",
    "\n",
    "# Train a RandomForest model\n",
    "def train_random_forest(X_train, y_train, X_val, y_val):\n",
    "    rf_model = RandomForestRegressor(\n",
    "        n_estimators=500, \n",
    "        max_depth=15, \n",
    "        min_samples_split=5, \n",
    "        min_samples_leaf=2, \n",
    "        random_state=42, \n",
    "        n_jobs=-1\n",
    "    )\n",
    "\n",
    "    # Fit the model\n",
    "    rf_model.fit(X_train, y_train)\n",
    "\n",
    "    # Predict on validation set\n",
    "    y_pred_val = rf_model.predict(X_val)\n",
    "\n",
    "    # Print and return RMSE\n",
    "    val_rmse = print_rmse(y_val, y_pred_val, model_name=\"RandomForest\")\n",
    "    \n",
    "    return rf_model, val_rmse"
   ]
  },
  {
   "cell_type": "markdown",
   "metadata": {},
   "source": [
    "#### save output (submission)"
   ]
  },
  {
   "cell_type": "code",
   "execution_count": 12,
   "metadata": {},
   "outputs": [],
   "source": [
    "def save_submission(y_pred, test_ids, filename='Latest_submission.csv'):\n",
    "    submission = pd.DataFrame({\n",
    "        \"ID\": test_ids,\n",
    "        \"TARGET\": y_pred\n",
    "    })\n",
    "    submission.to_csv(filename, index=False)"
   ]
  },
  {
   "cell_type": "markdown",
   "metadata": {},
   "source": [
    "#### usage"
   ]
  },
  {
   "cell_type": "code",
   "execution_count": 13,
   "metadata": {},
   "outputs": [
    {
     "name": "stdout",
     "output_type": "stream",
     "text": [
      "X_train columns before processing: (255080, 22)\n",
      "X_test columns before processing: (63771, 22)\n"
     ]
    },
    {
     "name": "stderr",
     "output_type": "stream",
     "text": [
      "d:\\ProgramFiles\\Anaconda\\envs\\ai_class\\lib\\site-packages\\numpy\\core\\_methods.py:247: RuntimeWarning: overflow encountered in reduce\n",
      "  ret = umr_sum(x, axis, dtype, out, keepdims=keepdims, where=where)\n",
      "d:\\ProgramFiles\\Anaconda\\envs\\ai_class\\lib\\site-packages\\numpy\\core\\_methods.py:236: RuntimeWarning: overflow encountered in multiply\n",
      "  x = um.multiply(x, x, out=x)\n"
     ]
    },
    {
     "name": "stdout",
     "output_type": "stream",
     "text": [
      "X_train shape after scaling: (255080, 22)\n",
      "X_test shape after scaling: (63771, 22)\n",
      "RandomForest RMSE: 53.6779323224558\n"
     ]
    }
   ],
   "source": [
    "# Load, process, and train\n",
    "X_train_split, X_val_split, y_train_split, y_val_split, X_test_scaled, test_ids = load_and_process_data(\n",
    "    'data/X_train.csv', 'data/y_train.csv', 'data/X_test.csv'\n",
    ")\n",
    "\n",
    "# Train Random Forest model\n",
    "rf_model, val_rmse = train_random_forest(X_train_split, y_train_split, X_val_split, y_val_split)\n",
    "\n",
    "# Predict on test data\n",
    "y_pred_test = rf_model.predict(X_test_scaled)\n",
    "\n",
    "# Save predictions\n",
    "save_submission(y_pred_test, test_ids)"
   ]
  }
 ],
 "metadata": {
  "kernelspec": {
   "display_name": "ai_class",
   "language": "python",
   "name": "python3"
  },
  "language_info": {
   "codemirror_mode": {
    "name": "ipython",
    "version": 3
   },
   "file_extension": ".py",
   "mimetype": "text/x-python",
   "name": "python",
   "nbconvert_exporter": "python",
   "pygments_lexer": "ipython3",
   "version": "3.9.18"
  }
 },
 "nbformat": 4,
 "nbformat_minor": 2
}
